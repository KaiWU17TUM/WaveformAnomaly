{
 "cells": [
  {
   "cell_type": "markdown",
   "source": [],
   "metadata": {
    "collapsed": false
   }
  },
  {
   "cell_type": "code",
   "execution_count": 1,
   "outputs": [],
   "source": [
    "import matplotlib.pyplot as plt\n",
    "import numpy as np\n",
    "import pandas as pd\n",
    "from sklearn.cluster import DBSCAN\n",
    "import json\n",
    "\n",
    "from Modules.Feature_Extraction_temporal_domain import *"
   ],
   "metadata": {
    "collapsed": false
   }
  },
  {
   "cell_type": "code",
   "execution_count": 2,
   "outputs": [],
   "source": [
    "import warnings\n",
    "\n",
    "warnings.filterwarnings(\"ignore\")"
   ],
   "metadata": {
    "collapsed": false
   }
  },
  {
   "cell_type": "markdown",
   "source": [
    "## Read Preprocessed Data"
   ],
   "metadata": {
    "collapsed": false
   }
  },
  {
   "cell_type": "code",
   "execution_count": 3,
   "outputs": [],
   "source": [
    "def read_csv(filepath):\n",
    "    f = open(filepath)\n",
    "    data = json.load(f)\n",
    "    return data\n",
    "\n",
    "#ecg = read_csv('Preprocessed_data/ecg/ecg_unfiltered.txt')\n",
    "ecg_filt = read_csv('Preprocessed_data/ecg/ecg_filtered.txt')"
   ],
   "metadata": {
    "collapsed": false
   }
  },
  {
   "cell_type": "markdown",
   "source": [
    "### Crop segments of the signals to remove a few minutes from the start and end\n",
    "At the very beginning or the end, the device is being attached? removed from the patient hence leading to a high variance in signals"
   ],
   "metadata": {
    "collapsed": false
   }
  },
  {
   "cell_type": "code",
   "execution_count": 4,
   "outputs": [],
   "source": [
    "#remove first and last few minutes\n",
    "for patient in ecg_filt:\n",
    "    ecg_filt[patient] = ecg_filt[patient][5000:700000]\n",
    "    #ecg[patient] = ecg[patient][5000:700000]"
   ],
   "metadata": {
    "collapsed": false
   }
  },
  {
   "cell_type": "markdown",
   "source": [
    "### Divide signals from patients into chunks of 10 seconds"
   ],
   "metadata": {
    "collapsed": false
   }
  },
  {
   "cell_type": "code",
   "execution_count": 15,
   "outputs": [],
   "source": [
    "duration = int(20*62.4725)\n",
    "segments_ecg = []\n",
    "\n",
    "for patient in ecg_filt:\n",
    "    values = ecg_filt[patient]\n",
    "    for i in range(0,len(values) - duration + 1, duration):\n",
    "        segments_ecg.append(values[i : (i + duration)])"
   ],
   "metadata": {
    "collapsed": false
   }
  },
  {
   "cell_type": "markdown",
   "source": [
    "## Clustering using DBSCAN"
   ],
   "metadata": {
    "collapsed": false
   }
  },
  {
   "cell_type": "code",
   "execution_count": 64,
   "outputs": [],
   "source": [
    "features_only = pd.DataFrame()\n",
    "for i in range(5000):\n",
    "    try:\n",
    "        ecg, info = nk.ecg_process(segments_ecg[i], sampling_rate=62.475)\n",
    "        events  = list(range(1,int(20*62.4725),int(20*62.4725)))\n",
    "        epochs = nk.epochs_create(ecg, events=events,epochs_start=-0.1, epochs_end=1.9)\n",
    "        features = nk.ecg_eventrelated(epochs)\n",
    "        features = features.fillna(0).drop(columns=[\"Label\", \"Event_Onset\"])\n",
    "        features_only = features_only.append(features)\n",
    "    except:\n",
    "        continue"
   ],
   "metadata": {
    "collapsed": false
   }
  },
  {
   "cell_type": "code",
   "execution_count": 67,
   "outputs": [
    {
     "data": {
      "text/plain": "    Cluster\n 0     2782\n-1     1226\n 1      500\n 2      398",
      "text/html": "<div>\n<style scoped>\n    .dataframe tbody tr th:only-of-type {\n        vertical-align: middle;\n    }\n\n    .dataframe tbody tr th {\n        vertical-align: top;\n    }\n\n    .dataframe thead th {\n        text-align: right;\n    }\n</style>\n<table border=\"1\" class=\"dataframe\">\n  <thead>\n    <tr style=\"text-align: right;\">\n      <th></th>\n      <th>Cluster</th>\n    </tr>\n  </thead>\n  <tbody>\n    <tr>\n      <th>0</th>\n      <td>2782</td>\n    </tr>\n    <tr>\n      <th>-1</th>\n      <td>1226</td>\n    </tr>\n    <tr>\n      <th>1</th>\n      <td>500</td>\n    </tr>\n    <tr>\n      <th>2</th>\n      <td>398</td>\n    </tr>\n  </tbody>\n</table>\n</div>"
     },
     "execution_count": 67,
     "metadata": {},
     "output_type": "execute_result"
    }
   ],
   "source": [
    "clustering = DBSCAN(eps=10, min_samples=30).fit(features_only)\n",
    "DBSCAN_dataset = features_only.copy()\n",
    "DBSCAN_dataset.loc[:,'Cluster'] = clustering.labels_\n",
    "\n",
    "clusters = DBSCAN_dataset.Cluster.value_counts().to_frame()\n",
    "clusters"
   ],
   "metadata": {
    "collapsed": false
   }
  },
  {
   "cell_type": "code",
   "execution_count": 75,
   "outputs": [
    {
     "data": {
      "text/plain": "        0         1         2         3         4         5         6    \\\n0 -0.112522 -2.827204 -3.773897 -4.349751 -4.376041 -3.474986 -2.181408   \n1 -1.100878 -3.996840 -4.285843 -4.506579 -4.022377 -3.234368 -1.566126   \n2 -0.567088 -2.593450 -3.874230 -4.584095 -4.187449 -3.151462 -1.742940   \n3  0.490473 -1.914407 -3.616364 -4.318823 -4.268016 -3.881110 -2.993280   \n4  0.800232 -0.874252 -2.384761 -3.973292 -4.338224 -3.802422 -2.534510   \n\n        7         8         9    ...       131       132       133       134  \\\n0 -1.818286 -1.250522 -0.477492  ...  0.792168  0.933541  0.796958  0.578621   \n1 -0.992258 -0.754680  0.042321  ...  0.538356  0.656881  0.787490  0.724046   \n2 -1.490659 -1.183580 -0.394229  ...  0.886073  0.531452  0.311377 -0.021919   \n3 -1.671131 -1.333884 -0.965629  ...  0.350816  0.499111  0.600345  0.842069   \n4 -1.783423 -1.594450 -0.753199  ...  1.148884  0.958434  1.059025  1.371682   \n\n        135       136       137       138       139  140  \n0  0.257740  0.228077  0.123431  0.925286  0.193137  1.0  \n1  0.555784  0.476333  0.773820  1.119621 -1.436250  1.0  \n2 -0.713683 -0.532197  0.321097  0.904227 -0.421797  1.0  \n3  0.952074  0.990133  1.086798  1.403011 -0.383564  1.0  \n4  1.277392  0.960304  0.971020  1.614392  1.421456  1.0  \n\n[5 rows x 141 columns]",
      "text/html": "<div>\n<style scoped>\n    .dataframe tbody tr th:only-of-type {\n        vertical-align: middle;\n    }\n\n    .dataframe tbody tr th {\n        vertical-align: top;\n    }\n\n    .dataframe thead th {\n        text-align: right;\n    }\n</style>\n<table border=\"1\" class=\"dataframe\">\n  <thead>\n    <tr style=\"text-align: right;\">\n      <th></th>\n      <th>0</th>\n      <th>1</th>\n      <th>2</th>\n      <th>3</th>\n      <th>4</th>\n      <th>5</th>\n      <th>6</th>\n      <th>7</th>\n      <th>8</th>\n      <th>9</th>\n      <th>...</th>\n      <th>131</th>\n      <th>132</th>\n      <th>133</th>\n      <th>134</th>\n      <th>135</th>\n      <th>136</th>\n      <th>137</th>\n      <th>138</th>\n      <th>139</th>\n      <th>140</th>\n    </tr>\n  </thead>\n  <tbody>\n    <tr>\n      <th>0</th>\n      <td>-0.112522</td>\n      <td>-2.827204</td>\n      <td>-3.773897</td>\n      <td>-4.349751</td>\n      <td>-4.376041</td>\n      <td>-3.474986</td>\n      <td>-2.181408</td>\n      <td>-1.818286</td>\n      <td>-1.250522</td>\n      <td>-0.477492</td>\n      <td>...</td>\n      <td>0.792168</td>\n      <td>0.933541</td>\n      <td>0.796958</td>\n      <td>0.578621</td>\n      <td>0.257740</td>\n      <td>0.228077</td>\n      <td>0.123431</td>\n      <td>0.925286</td>\n      <td>0.193137</td>\n      <td>1.0</td>\n    </tr>\n    <tr>\n      <th>1</th>\n      <td>-1.100878</td>\n      <td>-3.996840</td>\n      <td>-4.285843</td>\n      <td>-4.506579</td>\n      <td>-4.022377</td>\n      <td>-3.234368</td>\n      <td>-1.566126</td>\n      <td>-0.992258</td>\n      <td>-0.754680</td>\n      <td>0.042321</td>\n      <td>...</td>\n      <td>0.538356</td>\n      <td>0.656881</td>\n      <td>0.787490</td>\n      <td>0.724046</td>\n      <td>0.555784</td>\n      <td>0.476333</td>\n      <td>0.773820</td>\n      <td>1.119621</td>\n      <td>-1.436250</td>\n      <td>1.0</td>\n    </tr>\n    <tr>\n      <th>2</th>\n      <td>-0.567088</td>\n      <td>-2.593450</td>\n      <td>-3.874230</td>\n      <td>-4.584095</td>\n      <td>-4.187449</td>\n      <td>-3.151462</td>\n      <td>-1.742940</td>\n      <td>-1.490659</td>\n      <td>-1.183580</td>\n      <td>-0.394229</td>\n      <td>...</td>\n      <td>0.886073</td>\n      <td>0.531452</td>\n      <td>0.311377</td>\n      <td>-0.021919</td>\n      <td>-0.713683</td>\n      <td>-0.532197</td>\n      <td>0.321097</td>\n      <td>0.904227</td>\n      <td>-0.421797</td>\n      <td>1.0</td>\n    </tr>\n    <tr>\n      <th>3</th>\n      <td>0.490473</td>\n      <td>-1.914407</td>\n      <td>-3.616364</td>\n      <td>-4.318823</td>\n      <td>-4.268016</td>\n      <td>-3.881110</td>\n      <td>-2.993280</td>\n      <td>-1.671131</td>\n      <td>-1.333884</td>\n      <td>-0.965629</td>\n      <td>...</td>\n      <td>0.350816</td>\n      <td>0.499111</td>\n      <td>0.600345</td>\n      <td>0.842069</td>\n      <td>0.952074</td>\n      <td>0.990133</td>\n      <td>1.086798</td>\n      <td>1.403011</td>\n      <td>-0.383564</td>\n      <td>1.0</td>\n    </tr>\n    <tr>\n      <th>4</th>\n      <td>0.800232</td>\n      <td>-0.874252</td>\n      <td>-2.384761</td>\n      <td>-3.973292</td>\n      <td>-4.338224</td>\n      <td>-3.802422</td>\n      <td>-2.534510</td>\n      <td>-1.783423</td>\n      <td>-1.594450</td>\n      <td>-0.753199</td>\n      <td>...</td>\n      <td>1.148884</td>\n      <td>0.958434</td>\n      <td>1.059025</td>\n      <td>1.371682</td>\n      <td>1.277392</td>\n      <td>0.960304</td>\n      <td>0.971020</td>\n      <td>1.614392</td>\n      <td>1.421456</td>\n      <td>1.0</td>\n    </tr>\n  </tbody>\n</table>\n<p>5 rows × 141 columns</p>\n</div>"
     },
     "execution_count": 75,
     "metadata": {},
     "output_type": "execute_result"
    }
   ],
   "source": [
    "# Download the dataset\n",
    "dataframe = pd.read_csv('http://storage.googleapis.com/download.tensorflow.org/data/ecg.csv', header=None)\n",
    "raw_data = dataframe.values\n",
    "dataframe.head()"
   ],
   "metadata": {
    "collapsed": false
   }
  },
  {
   "cell_type": "code",
   "execution_count": 79,
   "outputs": [],
   "source": [
    "dataframe = dataframe.values.tolist()\n"
   ],
   "metadata": {
    "collapsed": false
   }
  },
  {
   "cell_type": "code",
   "execution_count": 81,
   "outputs": [
    {
     "data": {
      "text/plain": "[<matplotlib.lines.Line2D at 0x1e197f240a0>]"
     },
     "execution_count": 81,
     "metadata": {},
     "output_type": "execute_result"
    },
    {
     "data": {
      "text/plain": "<Figure size 640x480 with 1 Axes>",
      "image/png": "[encoded data removed]"
     },
     "metadata": {},
     "output_type": "display_data"
    }
   ],
   "source": [
    "plt.plot(dataframe[1])"
   ],
   "metadata": {
    "collapsed": false
   }
  },
  {
   "cell_type": "code",
   "execution_count": 84,
   "outputs": [
    {
     "ename": "UFuncTypeError",
     "evalue": "ufunc 'maximum' did not contain a loop with signature matching types (dtype('<U11'), dtype('<U11')) -> None",
     "output_type": "error",
     "traceback": [
      "\u001B[1;31m---------------------------------------------------------------------------\u001B[0m",
      "\u001B[1;31mUFuncTypeError\u001B[0m                            Traceback (most recent call last)",
      "Cell \u001B[1;32mIn[84], line 1\u001B[0m\n\u001B[1;32m----> 1\u001B[0m epochs \u001B[38;5;241m=\u001B[39m \u001B[43mnk\u001B[49m\u001B[38;5;241;43m.\u001B[39;49m\u001B[43mepochs_create\u001B[49m\u001B[43m(\u001B[49m\u001B[43mdataframe\u001B[49m\u001B[43m[\u001B[49m\u001B[38;5;241;43m0\u001B[39;49m\u001B[43m]\u001B[49m\u001B[43m)\u001B[49m\n\u001B[0;32m      2\u001B[0m features \u001B[38;5;241m=\u001B[39m nk\u001B[38;5;241m.\u001B[39mecg_eventrelated(epochs)\n",
      "File \u001B[1;32m~\\AppData\\Local\\Programs\\Python\\Python310\\lib\\site-packages\\neurokit2\\epochs\\epochs_create.py:102\u001B[0m, in \u001B[0;36mepochs_create\u001B[1;34m(data, events, sampling_rate, epochs_start, epochs_end, event_labels, event_conditions, baseline_correction)\u001B[0m\n\u001B[0;32m    100\u001B[0m \u001B[38;5;66;03m# Sanitize events input\u001B[39;00m\n\u001B[0;32m    101\u001B[0m \u001B[38;5;28;01mif\u001B[39;00m events \u001B[38;5;129;01mis\u001B[39;00m \u001B[38;5;28;01mNone\u001B[39;00m:\n\u001B[1;32m--> 102\u001B[0m     max_duration \u001B[38;5;241m=\u001B[39m (\u001B[43mnp\u001B[49m\u001B[38;5;241;43m.\u001B[39;49m\u001B[43mmax\u001B[49m\u001B[43m(\u001B[49m\u001B[43mepochs_end\u001B[49m\u001B[43m)\u001B[49m \u001B[38;5;241m-\u001B[39m np\u001B[38;5;241m.\u001B[39mmin(epochs_start)) \u001B[38;5;241m*\u001B[39m sampling_rate\n\u001B[0;32m    103\u001B[0m     events \u001B[38;5;241m=\u001B[39m np\u001B[38;5;241m.\u001B[39marange(\u001B[38;5;241m0\u001B[39m, \u001B[38;5;28mlen\u001B[39m(data) \u001B[38;5;241m-\u001B[39m max_duration, max_duration)\n\u001B[0;32m    104\u001B[0m \u001B[38;5;28;01mif\u001B[39;00m \u001B[38;5;28misinstance\u001B[39m(events, \u001B[38;5;28mint\u001B[39m):\n",
      "File \u001B[1;32m<__array_function__ internals>:200\u001B[0m, in \u001B[0;36mamax\u001B[1;34m(*args, **kwargs)\u001B[0m\n",
      "File \u001B[1;32m~\\AppData\\Local\\Programs\\Python\\Python310\\lib\\site-packages\\numpy\\core\\fromnumeric.py:2820\u001B[0m, in \u001B[0;36mamax\u001B[1;34m(a, axis, out, keepdims, initial, where)\u001B[0m\n\u001B[0;32m   2703\u001B[0m \u001B[38;5;129m@array_function_dispatch\u001B[39m(_amax_dispatcher)\n\u001B[0;32m   2704\u001B[0m \u001B[38;5;28;01mdef\u001B[39;00m \u001B[38;5;21mamax\u001B[39m(a, axis\u001B[38;5;241m=\u001B[39m\u001B[38;5;28;01mNone\u001B[39;00m, out\u001B[38;5;241m=\u001B[39m\u001B[38;5;28;01mNone\u001B[39;00m, keepdims\u001B[38;5;241m=\u001B[39mnp\u001B[38;5;241m.\u001B[39m_NoValue, initial\u001B[38;5;241m=\u001B[39mnp\u001B[38;5;241m.\u001B[39m_NoValue,\n\u001B[0;32m   2705\u001B[0m          where\u001B[38;5;241m=\u001B[39mnp\u001B[38;5;241m.\u001B[39m_NoValue):\n\u001B[0;32m   2706\u001B[0m \u001B[38;5;250m    \u001B[39m\u001B[38;5;124;03m\"\"\"\u001B[39;00m\n\u001B[0;32m   2707\u001B[0m \u001B[38;5;124;03m    Return the maximum of an array or maximum along an axis.\u001B[39;00m\n\u001B[0;32m   2708\u001B[0m \n\u001B[1;32m   (...)\u001B[0m\n\u001B[0;32m   2818\u001B[0m \u001B[38;5;124;03m    5\u001B[39;00m\n\u001B[0;32m   2819\u001B[0m \u001B[38;5;124;03m    \"\"\"\u001B[39;00m\n\u001B[1;32m-> 2820\u001B[0m     \u001B[38;5;28;01mreturn\u001B[39;00m \u001B[43m_wrapreduction\u001B[49m\u001B[43m(\u001B[49m\u001B[43ma\u001B[49m\u001B[43m,\u001B[49m\u001B[43m \u001B[49m\u001B[43mnp\u001B[49m\u001B[38;5;241;43m.\u001B[39;49m\u001B[43mmaximum\u001B[49m\u001B[43m,\u001B[49m\u001B[43m \u001B[49m\u001B[38;5;124;43m'\u001B[39;49m\u001B[38;5;124;43mmax\u001B[39;49m\u001B[38;5;124;43m'\u001B[39;49m\u001B[43m,\u001B[49m\u001B[43m \u001B[49m\u001B[43maxis\u001B[49m\u001B[43m,\u001B[49m\u001B[43m \u001B[49m\u001B[38;5;28;43;01mNone\u001B[39;49;00m\u001B[43m,\u001B[49m\u001B[43m \u001B[49m\u001B[43mout\u001B[49m\u001B[43m,\u001B[49m\n\u001B[0;32m   2821\u001B[0m \u001B[43m                          \u001B[49m\u001B[43mkeepdims\u001B[49m\u001B[38;5;241;43m=\u001B[39;49m\u001B[43mkeepdims\u001B[49m\u001B[43m,\u001B[49m\u001B[43m \u001B[49m\u001B[43minitial\u001B[49m\u001B[38;5;241;43m=\u001B[39;49m\u001B[43minitial\u001B[49m\u001B[43m,\u001B[49m\u001B[43m \u001B[49m\u001B[43mwhere\u001B[49m\u001B[38;5;241;43m=\u001B[39;49m\u001B[43mwhere\u001B[49m\u001B[43m)\u001B[49m\n",
      "File \u001B[1;32m~\\AppData\\Local\\Programs\\Python\\Python310\\lib\\site-packages\\numpy\\core\\fromnumeric.py:86\u001B[0m, in \u001B[0;36m_wrapreduction\u001B[1;34m(obj, ufunc, method, axis, dtype, out, **kwargs)\u001B[0m\n\u001B[0;32m     83\u001B[0m         \u001B[38;5;28;01melse\u001B[39;00m:\n\u001B[0;32m     84\u001B[0m             \u001B[38;5;28;01mreturn\u001B[39;00m reduction(axis\u001B[38;5;241m=\u001B[39maxis, out\u001B[38;5;241m=\u001B[39mout, \u001B[38;5;241m*\u001B[39m\u001B[38;5;241m*\u001B[39mpasskwargs)\n\u001B[1;32m---> 86\u001B[0m \u001B[38;5;28;01mreturn\u001B[39;00m ufunc\u001B[38;5;241m.\u001B[39mreduce(obj, axis, dtype, out, \u001B[38;5;241m*\u001B[39m\u001B[38;5;241m*\u001B[39mpasskwargs)\n",
      "\u001B[1;31mUFuncTypeError\u001B[0m: ufunc 'maximum' did not contain a loop with signature matching types (dtype('<U11'), dtype('<U11')) -> None"
     ]
    }
   ],
   "source": [
    "epochs = nk.epochs_create(dataframe[0])\n",
    "features = nk.ecg_eventrelated(epochs)"
   ],
   "metadata": {
    "collapsed": false
   }
  },
  {
   "cell_type": "code",
   "execution_count": null,
   "outputs": [],
   "source": [],
   "metadata": {
    "collapsed": false
   }
  }
 ],
 "metadata": {
  "kernelspec": {
   "display_name": "Python 3",
   "language": "python",
   "name": "python3"
  },
  "language_info": {
   "codemirror_mode": {
    "name": "ipython",
    "version": 2
   },
   "file_extension": ".py",
   "mimetype": "text/x-python",
   "name": "python",
   "nbconvert_exporter": "python",
   "pygments_lexer": "ipython2",
   "version": "2.7.6"
  }
 },
 "nbformat": 4,
 "nbformat_minor": 0
}
