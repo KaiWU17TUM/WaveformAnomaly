{
 "cells": [
  {
   "cell_type": "markdown",
   "source": [
    "# Clustering segments of ECG signals\n",
    "\n",
    "This notebook includes a clustering of segments of ECG signals into normal and anomolous based on the manual features extracted from those segments.\n",
    "\n",
    "#### Outline of the approach\n",
    "-  The signals are first preprocessed by applying a low bandpass filter and removing the first and last few segemnts\n",
    "- Manual feature are calculated on the signals (P, Q, R, S, T points on the wave)\n",
    "- These features are then used to separate heartbeats from the complete signal.\n",
    "- DBSCAN is used to cluster each heartbeat and the anomolous heartbeats are labelled on their position in the orignal signal.\n",
    "- The results are computed per patient and stored in anomalies_clustering/HeartBeats"
   ],
   "metadata": {
    "collapsed": false
   }
  },
  {
   "cell_type": "code",
   "execution_count": 2,
   "outputs": [],
   "source": [
    "import matplotlib.pyplot as plt\n",
    "from sklearn.cluster import DBSCAN\n",
    "import json\n",
    "import os\n",
    "\n",
    "from Modules.HeartBeat_Extraction import *\n",
    "from Modules.WVT_features import *"
   ],
   "metadata": {
    "collapsed": false
   }
  },
  {
   "cell_type": "code",
   "execution_count": 3,
   "outputs": [],
   "source": [
    "import warnings\n",
    "\n",
    "warnings.filterwarnings(\"ignore\")"
   ],
   "metadata": {
    "collapsed": false
   }
  },
  {
   "cell_type": "markdown",
   "source": [
    "#### 1. Read Preprocessed Data\n",
    "The preprocessed data is saved in Preprocessed_data/ecg. We will remove the first and last few seconds from each patients signals as at the very beginning or the end, the device is being attached? removed from the patient hence leading to a high variance in signals"
   ],
   "metadata": {
    "collapsed": false
   }
  },
  {
   "cell_type": "code",
   "execution_count": 4,
   "outputs": [],
   "source": [
    "def read_csv(filepath):\n",
    "    f = open(filepath)\n",
    "    data = json.load(f)\n",
    "    return data\n",
    "\n",
    "ecg_filt = read_csv('Preprocessed_data/ecg/ecg_filtered.txt')\n",
    "\n",
    "#remove first and last few minutes\n",
    "for patient in ecg_filt:\n",
    "    ecg_filt[patient] = ecg_filt[patient][100000:400000]"
   ],
   "metadata": {
    "collapsed": false
   }
  },
  {
   "cell_type": "markdown",
   "source": [
    "#### 2. Extract Heartbeats\n",
    "Features are computed on the signals and using these features, heartbeats are isloated from the signals. The features include the location and amplitude of the P, Q, R, S and T points"
   ],
   "metadata": {
    "collapsed": false
   }
  },
  {
   "cell_type": "code",
   "execution_count": null,
   "outputs": [],
   "source": [
    "#extarct heartbeats\n",
    "epochs = {}\n",
    "for patient in ecg_filt:\n",
    "    epochs[patient] = extract_heartbeats(ecg_filt[patient])\n",
    "\n",
    "#Merge heartbeats from all patients into a single dataframe\n",
    "df = HeartBeat_to_df(epochs, 10000)"
   ],
   "metadata": {
    "collapsed": false,
    "pycharm": {
     "is_executing": true
    }
   }
  },
  {
   "cell_type": "markdown",
   "source": [
    "#### 3. Clustering using DBSCAN\n",
    "##### Here we define a function to cluster heartbeats\n",
    "\n",
    "The heartbeats dataframe encodes all the temporal information in each heartbeat of a segment. The heart beats are then clustered using the DBSCAN Algorithm to find anomolous heartbeats.\n",
    "The DBSCAN algorithm has two parameters:\n",
    "- minPts: The minimum number of points (a threshold) clustered together for a region to be considered dense.\n",
    "- eps (ε): A distance measure that will be used to locate the points in the neighborhood of any point\n",
    "\n",
    "We have set minPts = 100 and eps = 0.3"
   ],
   "metadata": {
    "collapsed": false
   }
  },
  {
   "cell_type": "code",
   "execution_count": 15,
   "outputs": [
    {
     "data": {
      "text/plain": "    Cluster\n 0     9061\n-1      399\n 1      297\n 2      243",
      "text/html": "<div>\n<style scoped>\n    .dataframe tbody tr th:only-of-type {\n        vertical-align: middle;\n    }\n\n    .dataframe tbody tr th {\n        vertical-align: top;\n    }\n\n    .dataframe thead th {\n        text-align: right;\n    }\n</style>\n<table border=\"1\" class=\"dataframe\">\n  <thead>\n    <tr style=\"text-align: right;\">\n      <th></th>\n      <th>Cluster</th>\n    </tr>\n  </thead>\n  <tbody>\n    <tr>\n      <th>0</th>\n      <td>9061</td>\n    </tr>\n    <tr>\n      <th>-1</th>\n      <td>399</td>\n    </tr>\n    <tr>\n      <th>1</th>\n      <td>297</td>\n    </tr>\n    <tr>\n      <th>2</th>\n      <td>243</td>\n    </tr>\n  </tbody>\n</table>\n</div>"
     },
     "execution_count": 15,
     "metadata": {},
     "output_type": "execute_result"
    }
   ],
   "source": [
    "eps = 0.3\n",
    "min_samples = 100\n",
    "\n",
    "clustering = DBSCAN(eps=eps, min_samples=min_samples).fit(df)\n",
    "DBSCAN_dataset = df.copy()\n",
    "DBSCAN_dataset.loc[:,'Cluster'] = clustering.labels_\n",
    "\n",
    "clusters = DBSCAN_dataset.Cluster.value_counts().to_frame()\n",
    "clusters"
   ],
   "metadata": {
    "collapsed": false
   }
  },
  {
   "cell_type": "code",
   "execution_count": 16,
   "outputs": [],
   "source": [
    "def make_clusters(df):\n",
    "    y_pred = clustering.fit_predict(df)\n",
    "    anomoly_indices = np.where(y_pred == -1)[0]\n",
    "    normal_indices = np.where(y_pred == 0)[0]\n",
    "\n",
    "    normal_df = df.iloc[normal_indices]\n",
    "    anomaly_df = df.iloc[anomoly_indices]\n",
    "\n",
    "    return clusters, normal_df, anomaly_df, anomoly_indices"
   ],
   "metadata": {
    "collapsed": false
   }
  },
  {
   "cell_type": "markdown",
   "source": [
    "#### 4. Plot Clusters\n",
    "##### Here we define a function to plot all heartbeats categorized as normal and all heartbeats categorized as anomolous for a single patient\n",
    "\n",
    "Results are saved in anomalies_clustering/HeartBeats/Normal/ and anomalies_clustering/HeartBeats/Abnormal/"
   ],
   "metadata": {
    "collapsed": false
   }
  },
  {
   "cell_type": "code",
   "execution_count": 53,
   "outputs": [],
   "source": [
    "def plot_clusters(normal_df, anomaly_df, patient):\n",
    "    fig = plt.figure()\n",
    "    plt.title(\"Normal Clusters for pateint \"+ str(patient))\n",
    "    plt.plot(normal_df.T)\n",
    "    plt.savefig('anomalies_clustering/HeartBeats/Normal/'+patient+'.png')\n",
    "    plt.close(fig)\n",
    "\n",
    "    fig = plt.figure()\n",
    "    plt.title(\"Abnormal Clusters for pateint \"+ str(patient))\n",
    "    plt.plot(anomaly_df.T)\n",
    "    plt.savefig('anomalies_clustering/HeartBeats/Abnormal/'+patient+'.png')\n",
    "    plt.close(fig)"
   ],
   "metadata": {
    "collapsed": false
   }
  },
  {
   "cell_type": "markdown",
   "source": [
    "#### 5. Plot Anomolous segments\n",
    "##### Here we define a function to plot the anomolous segments at the orignal positions in the signals\n",
    "\n",
    "The individual heartbeats are then reconstructed back to segments of 20 seconds, with the anolomous part of the signals highlighted in red. Results are saved in anomalies_clustering/HeartBeats/"
   ],
   "metadata": {
    "collapsed": false
   }
  },
  {
   "cell_type": "code",
   "execution_count": 17,
   "outputs": [],
   "source": [
    "def plot_anomolous_segments(df, patient, anomoly_indices):\n",
    "    os.makedirs('anomalies_clustering/HeartBeats/'+ patient, exist_ok=True)\n",
    "    print(patient)\n",
    "    for patient_sample in range(0, int(len(df)/20), 20):\n",
    "        fig = plt.figure(figsize=(18,8))\n",
    "        arr =[]\n",
    "        col = []\n",
    "        length = len(df.iloc[0].values)\n",
    "        for i in range(patient_sample, patient_sample+20):\n",
    "            arr.append(df.iloc[i].values)\n",
    "\n",
    "            if i in anomoly_indices:\n",
    "                col.append('r')\n",
    "            else: col.append('b')\n",
    "\n",
    "        arr = list(np.concatenate(arr).flat)\n",
    "        x = np.arange(0,len(arr))\n",
    "\n",
    "        plt.plot(x, arr)\n",
    "\n",
    "        start = 0\n",
    "        end  = 0\n",
    "\n",
    "        for i in range(len(col)):\n",
    "            if col[i] == 'r':\n",
    "                start = i*length\n",
    "                end =start + length\n",
    "                x = np.arange(start,end)\n",
    "                plt.plot(x, arr[start:end], c='red')\n",
    "\n",
    "        plt.savefig('anomalies_clustering/HeartBeats/'+str(patient)+'/'+str(patient_sample)+'.png')\n",
    "        plt.close(fig)\n"
   ],
   "metadata": {
    "collapsed": false
   }
  },
  {
   "cell_type": "markdown",
   "source": [
    "##### Now we will call all the defined functions for each patient"
   ],
   "metadata": {
    "collapsed": false
   }
  },
  {
   "cell_type": "code",
   "execution_count": null,
   "outputs": [],
   "source": [
    "for patient in ecg_filt:\n",
    "\n",
    "    df = pd.DataFrame()\n",
    "    for key in epochs[patient].keys():\n",
    "        df[key] = epochs[patient][key][\"Signal\"]\n",
    "    df = df.T\n",
    "\n",
    "    clusters, normal_df, anomaly_df, anomoly_indices = make_clusters(df)\n",
    "    plot_clusters(normal_df, anomaly_df, patient)\n",
    "    plot_anomolous_segments(df, patient, anomoly_indices)"
   ],
   "metadata": {
    "collapsed": false
   }
  }
 ],
 "metadata": {
  "kernelspec": {
   "display_name": "Python 3",
   "language": "python",
   "name": "python3"
  },
  "language_info": {
   "codemirror_mode": {
    "name": "ipython",
    "version": 2
   },
   "file_extension": ".py",
   "mimetype": "text/x-python",
   "name": "python",
   "nbconvert_exporter": "python",
   "pygments_lexer": "ipython2",
   "version": "2.7.6"
  }
 },
 "nbformat": 4,
 "nbformat_minor": 0
}
