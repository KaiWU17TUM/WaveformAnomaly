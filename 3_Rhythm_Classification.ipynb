{
 "cells": [
  {
   "cell_type": "markdown",
   "source": [
    "# Clustering segments of ECG signals using Wavelet Tranform\n",
    "\n",
    "This notebook includes a clustering of segments of ECG signals into normal and anomolous based on the features extracted after a wavelet transform of the signals is performed.\n",
    "\n",
    "#### Outline of the approach\n",
    "-  The signals are first preprocessed by applying a low bandpass filter and removing the first and last few segemnts\n",
    "- Wavelet Decomposition of the signal is performed.\n",
    "- The signal is then broken into segments of a fixed length and time domain features are extracted from the signal\n",
    "- DBSCAN is used to cluster each segment and the anomolous segments are labelled on their position in the orignal signal.\n",
    "- The results are computed per patient and stored in anomalies_clustering/Rhythm"
   ],
   "metadata": {
    "collapsed": false
   }
  },
  {
   "cell_type": "code",
   "execution_count": 13,
   "outputs": [],
   "source": [
    "import json\n",
    "import pywt\n",
    "import os\n",
    "\n",
    "from Modules.Rhythm_classification import *"
   ],
   "metadata": {
    "collapsed": false
   }
  },
  {
   "cell_type": "code",
   "execution_count": 2,
   "outputs": [],
   "source": [
    "import warnings\n",
    "\n",
    "warnings.filterwarnings(\"ignore\")"
   ],
   "metadata": {
    "collapsed": false
   }
  },
  {
   "cell_type": "markdown",
   "source": [
    "#### 1. Read Preprocessed Data\n",
    "The preprocessed data is saved in Preprocessed_data/ecg. We will remove the first and last few seconds from each patients signals as at the very beginning or the end, the device is being attached? removed from the patient hence leading to a high variance in signals"
   ],
   "metadata": {
    "collapsed": false
   }
  },
  {
   "cell_type": "code",
   "execution_count": 3,
   "outputs": [],
   "source": [
    "def read_csv(filepath):\n",
    "    f = open(filepath)\n",
    "    data = json.load(f)\n",
    "    return data\n",
    "\n",
    "ecg_filt = read_csv('Preprocessed_data/ecg/ecg_filtered.txt')\n",
    "#remove first and last few minutes\n",
    "for patient in ecg_filt:\n",
    "    ecg_filt[patient] = ecg_filt[patient][10000:600000]"
   ],
   "metadata": {
    "collapsed": false
   }
  },
  {
   "cell_type": "markdown",
   "source": [
    "#### 2. Wavelet Tranform the signals\n",
    "The wavedec function from the pywt library is used and this function returns the Low level (cA) and high level (cD) information in the wavelets of the signal. The low level information will be used because it simplifies the signal making features easier to extract"
   ],
   "metadata": {
    "collapsed": false
   }
  },
  {
   "cell_type": "code",
   "execution_count": 4,
   "outputs": [],
   "source": [
    "compressed_ecg = {}\n",
    "\n",
    "for patient in ecg_filt:\n",
    "    (cA, cD1) = pywt.wavedec(ecg_filt[patient], 'sym2', level=1)\n",
    "    compressed_ecg[patient] = cA"
   ],
   "metadata": {
    "collapsed": false
   }
  },
  {
   "cell_type": "markdown",
   "source": [
    "#### 3. Split signal into segments\n",
    "\n",
    "The signal is broken down into segments of 1 seconds. Features are computed on these segments and then these features are clustered.\n",
    "For plotting, 15 such consecutive segments are plotted together."
   ],
   "metadata": {
    "collapsed": false
   }
  },
  {
   "cell_type": "code",
   "execution_count": 5,
   "outputs": [],
   "source": [
    "duration = 62 * 2\n",
    "segments_ecg = {}\n",
    "\n",
    "for patient in compressed_ecg:\n",
    "    values = compressed_ecg[patient]\n",
    "    segments_ecg[patient] = []\n",
    "    for i in range(0,len(values) - duration + 1, duration):\n",
    "        segments_ecg[patient].append(values[i : (i + duration)])"
   ],
   "metadata": {
    "collapsed": false
   }
  },
  {
   "cell_type": "markdown",
   "source": [
    "#### 4.  Clustering Features using DBSCAN\n",
    "\n",
    "##### Find Features\n",
    "First we will manually extract some features from the time domain. The implementation of this can be found in Modules.Rhythm_classification as get_patient_features\n",
    "\n",
    "Next, the features are then clustered using the DBSCAN Algorithm to find anomolous heartbeats.\n",
    "The DBSCAN algorithm has two parameters:\n",
    "- minPts: The minimum number of points (a threshold) clustered together for a region to be considered dense.\n",
    "- eps (ε): A distance measure that will be used to locate the points in the neighborhood of any point\n",
    "We have set minPts = 1 and eps = 30\n",
    "The implementation of this can be found in Modules.Rhythm_classification as cluster\n",
    "\n",
    "We will extracted the first two principle components of the features and plotted them to visualize the clustering. The implementation of this can be found in Modules.Rhythm_classification as pca_plots\n",
    "\n",
    "Finally, we mark the anomalous segments at their original location on the signals. The implementation of this can be found in Modules.Rhythm_classification as plot_anomalous_segments\n"
   ],
   "metadata": {
    "collapsed": false
   }
  },
  {
   "cell_type": "code",
   "execution_count": 12,
   "outputs": [],
   "source": [
    "for patient in segments_ecg:\n",
    "    os.makedirs('anomalies_clustering/Rhythm/'+ patient, exist_ok=True)\n",
    "    features_only, ecg_signal_processed = get_patient_features(segments_ecg[patient], patient)\n",
    "    clusters, y_pred, anomoly_indices = cluster(features_only)\n",
    "    pca_plots(patient, features_only, y_pred)\n",
    "    plot_anomalous_segments(ecg_signal_processed, anomoly_indices, patient)"
   ],
   "metadata": {
    "collapsed": false
   }
  }
 ],
 "metadata": {
  "kernelspec": {
   "display_name": "Python 3",
   "language": "python",
   "name": "python3"
  },
  "language_info": {
   "codemirror_mode": {
    "name": "ipython",
    "version": 2
   },
   "file_extension": ".py",
   "mimetype": "text/x-python",
   "name": "python",
   "nbconvert_exporter": "python",
   "pygments_lexer": "ipython2",
   "version": "2.7.6"
  }
 },
 "nbformat": 4,
 "nbformat_minor": 0
}
